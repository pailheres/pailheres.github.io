{
 "cells": [
  {
   "cell_type": "code",
   "execution_count": null,
   "metadata": {},
   "outputs": [],
   "source": [
    "import pandas as pd\n",
    "import json"
   ]
  },
  {
   "cell_type": "code",
   "execution_count": null,
   "metadata": {},
   "outputs": [],
   "source": [
    "#with open('soccer_sql_backup_clean.xlsx', 'rb') as file:\n",
    "#    bla = file.read().replace(b'\\r\\n', b'\\n')\n",
    "#    print(bla)\n",
    "#    df_all = pd.read_excel(bla, sheet_name=None)\n",
    "#    print(df_all)"
   ]
  },
  {
   "cell_type": "code",
   "execution_count": null,
   "metadata": {},
   "outputs": [],
   "source": [
    "df_all = pd.read_excel('soccer_sql_backup_clean.xlsx', sheet_name=None)\n",
    "print(df_all)"
   ]
  },
  {
   "cell_type": "code",
   "execution_count": null,
   "metadata": {},
   "outputs": [],
   "source": [
    "cdc_json_str = '{\\n'\n",
    "for key in list(df_all.keys()):\n",
    "#    with open(key+'.json', 'w', encoding='utf-8') as file:\n",
    "    df_all[key] = df_all[key].replace('_x000D_\\n','<br>', regex=True)  #replace carriage return and line feed from data from excel file\n",
    "    \n",
    "    if (key == 'Sessions'):\n",
    "        df_all[key]['session'] = df_all[key]['session'].replace('<br>','', regex=True)#.replace('\\\"','', regex=True)\n",
    "        #df_all[key]['session'] = df_all[key]['session'].str[1:-1]\n",
    "        tmp_list = list()\n",
    "        for items in df_all[key]['session']:\n",
    "            #print(items)\n",
    "            json_obj = json.loads(items)\n",
    "            #print(json_obj['drills'])\n",
    "            #print(json.dumps(json_obj['drills']))\n",
    "            #json_str = pd.read_json(json_obj['drills'], orient='records')\n",
    "            #json_str = json.dumps(json_obj['drills'])\n",
    "            #print(json_str)\n",
    "            tmp_list.append(json_obj['drills'])\n",
    "            #print(df_tmp)\n",
    "        #df_all[key]['session'] = df_all[key]['session'].to_json(force_ascii=False, orient=\"records\", index=True)\n",
    "        #print(tmp_list)\n",
    "        df_all[key]['drills'] = tmp_list\n",
    "        df_all[key] = df_all[key].drop(columns=['session'])\n",
    "\n",
    "    json_str = df_all[key].to_json(force_ascii=False, orient=\"records\", indent=1, index=True)\n",
    "    json_str = '\"' + key + '\" : ' + json_str\n",
    "#        file.write(json_str)\n",
    "    cdc_json_str += '\\n' + json_str + \",\"\n",
    "\n",
    "cdc_json_str = cdc_json_str[:-1] + '\\n}'  # replace last , with \\n}\n",
    "\n",
    "with open('cdc.json', 'w', encoding='utf-8') as file:\n",
    "    file.write(cdc_json_str)"
   ]
  },
  {
   "cell_type": "code",
   "execution_count": null,
   "metadata": {},
   "outputs": [],
   "source": [
    "cdc_json_str"
   ]
  },
  {
   "cell_type": "code",
   "execution_count": null,
   "metadata": {},
   "outputs": [],
   "source": [
    "##with open('df.json', 'w', encoding='utf-16') as file:\n",
    "##    df_all['Drills'].to_json(file, force_ascii=False, orient=\"index\", indent=2)\n",
    "#tmp_json = df_all['Drills'].to_json(force_ascii=False, orient=\"records\", indent=1).replace('\\\\r\\\\n', '<br>')#.encode(\"utf-8\")\n",
    "#\n",
    "#json_obj = json.loads(tmp_json)\n",
    "#\n",
    "#\n",
    "#with open('cdc.json', 'w', encoding='utf-8') as file:\n",
    "#    file.write(tmp_json)"
   ]
  },
  {
   "cell_type": "code",
   "execution_count": null,
   "metadata": {},
   "outputs": [],
   "source": [
    "#json_obj"
   ]
  },
  {
   "cell_type": "code",
   "execution_count": null,
   "metadata": {},
   "outputs": [],
   "source": []
  }
 ],
 "metadata": {
  "kernelspec": {
   "display_name": "Python 3 (ipykernel)",
   "language": "python",
   "name": "python3"
  },
  "language_info": {
   "codemirror_mode": {
    "name": "ipython",
    "version": 3
   },
   "file_extension": ".py",
   "mimetype": "text/x-python",
   "name": "python",
   "nbconvert_exporter": "python",
   "pygments_lexer": "ipython3",
   "version": "3.9.12"
  }
 },
 "nbformat": 4,
 "nbformat_minor": 4
}
